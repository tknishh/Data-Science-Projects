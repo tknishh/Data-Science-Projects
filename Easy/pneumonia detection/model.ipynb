{
 "cells": [
  {
   "cell_type": "code",
   "execution_count": 5,
   "metadata": {},
   "outputs": [],
   "source": [
    "from fastai import *\n",
    "from fastai.vision import *\n",
    "from fastai.metrics import error_rate\n",
    "import os\n",
    "import pandas as pd\n",
    "import numpy as np\n",
    "from pathlib import Path\n"
   ]
  },
  {
   "cell_type": "code",
   "execution_count": 6,
   "metadata": {},
   "outputs": [
    {
     "data": {
      "text/plain": [
       "(#5) [Path('E:/JUET/Projects/Pneumonia Detection/chest_xray/chest_xray'),Path('E:/JUET/Projects/Pneumonia Detection/chest_xray/test'),Path('E:/JUET/Projects/Pneumonia Detection/chest_xray/train'),Path('E:/JUET/Projects/Pneumonia Detection/chest_xray/val'),Path('E:/JUET/Projects/Pneumonia Detection/chest_xray/__MACOSX')]"
      ]
     },
     "execution_count": 6,
     "metadata": {},
     "output_type": "execute_result"
    }
   ],
   "source": [
    "x = 'E:\\JUET\\Projects\\Pneumonia Detection\\chest_xray'\n",
    "path = Path(x)\n",
    "path.ls()"
   ]
  },
  {
   "cell_type": "code",
   "execution_count": 32,
   "metadata": {},
   "outputs": [
    {
     "name": "stdout",
     "output_type": "stream",
     "text": [
      "Due to IPython and Windows limitation, python multiprocessing isn't available now.\n",
      "So `number_workers` is changed to 0 to avoid getting stuck\n"
     ]
    }
   ],
   "source": [
    "np.random.seed(12)\n",
    "data = vision.data.ImageDataLoaders.from_folder(path, train ='train', valid='valid', batch_tfms= None, valid_pct= 0.2, size=224)"
   ]
  },
  {
   "cell_type": "code",
   "execution_count": 37,
   "metadata": {},
   "outputs": [
    {
     "ename": "AttributeError",
     "evalue": "module 'fastai.vision.data' has no attribute 'DatasetEvent'",
     "output_type": "error",
     "traceback": [
      "\u001b[1;31m---------------------------------------------------------------------------\u001b[0m",
      "\u001b[1;31mAttributeError\u001b[0m                            Traceback (most recent call last)",
      "\u001b[1;32me:\\JUET\\Projects\\Pneumonia Detection\\model.ipynb Cell 4'\u001b[0m in \u001b[0;36m<module>\u001b[1;34m\u001b[0m\n\u001b[1;32m----> <a href='vscode-notebook-cell:/e%3A/JUET/Projects/Pneumonia%20Detection/model.ipynb#ch0000003?line=0'>1</a>\u001b[0m data\u001b[39m.\u001b[39madd_tfms(vision\u001b[39m.\u001b[39mdata\u001b[39m.\u001b[39mmk_transform(f\u001b[39m=\u001b[39mx), event\u001b[39m=\u001b[39mvision\u001b[39m.\u001b[39;49mdata\u001b[39m.\u001b[39;49mDatasetEvent\u001b[39m.\u001b[39mTrain)\n\u001b[0;32m      <a href='vscode-notebook-cell:/e%3A/JUET/Projects/Pneumonia%20Detection/model.ipynb#ch0000003?line=1'>2</a>\u001b[0m data\u001b[39m.\u001b[39mshow_batch(rows\u001b[39m=\u001b[39m\u001b[39m3\u001b[39m, figsize\u001b[39m=\u001b[39m(\u001b[39m7\u001b[39m,\u001b[39m6\u001b[39m), recompute_scale_factor \u001b[39m=\u001b[39m \u001b[39mTrue\u001b[39;00m)\n",
      "\u001b[1;31mAttributeError\u001b[0m: module 'fastai.vision.data' has no attribute 'DatasetEvent'"
     ]
    }
   ],
   "source": [
    "data.add_tfms(vision.data.mk_transform(f=x), event=vision.data.DatasetEvent.Train)\n",
    "data.show_batch(rows=3, figsize=(7,6), recompute_scale_factor = True)"
   ]
  },
  {
   "cell_type": "code",
   "execution_count": 26,
   "metadata": {},
   "outputs": [
    {
     "ename": "SyntaxError",
     "evalue": "invalid syntax (87590752.py, line 1)",
     "output_type": "error",
     "traceback": [
      "\u001b[1;36m  Input \u001b[1;32mIn [26]\u001b[1;36m\u001b[0m\n\u001b[1;33m    learn = cnn_learner(data, models.resnet50, metrics = [accuracy], model_dir = Path(x), path = Path=(\".\"))\u001b[0m\n\u001b[1;37m                                                                                                     ^\u001b[0m\n\u001b[1;31mSyntaxError\u001b[0m\u001b[1;31m:\u001b[0m invalid syntax\n"
     ]
    }
   ],
   "source": [
    "learn = cnn_learner(data, models.resnet50, metrics = [accuracy], model_dir = Path(x), path = Path=(\".\"))"
   ]
  },
  {
   "cell_type": "code",
   "execution_count": 6,
   "metadata": {},
   "outputs": [
    {
     "ename": "NameError",
     "evalue": "name 'learn' is not defined",
     "output_type": "error",
     "traceback": [
      "\u001b[1;31m---------------------------------------------------------------------------\u001b[0m",
      "\u001b[1;31mNameError\u001b[0m                                 Traceback (most recent call last)",
      "\u001b[1;32me:\\JUET\\Projects\\Pneumonia Detection\\model.ipynb Cell 6'\u001b[0m in \u001b[0;36m<module>\u001b[1;34m\u001b[0m\n\u001b[1;32m----> <a href='vscode-notebook-cell:/e%3A/JUET/Projects/Pneumonia%20Detection/model.ipynb#ch0000005?line=0'>1</a>\u001b[0m learn\u001b[39m.\u001b[39mlr_find()\n\u001b[0;32m      <a href='vscode-notebook-cell:/e%3A/JUET/Projects/Pneumonia%20Detection/model.ipynb#ch0000005?line=1'>2</a>\u001b[0m learn\u001b[39m.\u001b[39mrecorder\u001b[39m.\u001b[39mplot\n",
      "\u001b[1;31mNameError\u001b[0m: name 'learn' is not defined"
     ]
    }
   ],
   "source": [
    "learn.lr_find()\n",
    "learn.recorder.plot"
   ]
  },
  {
   "cell_type": "code",
   "execution_count": null,
   "metadata": {},
   "outputs": [],
   "source": []
  }
 ],
 "metadata": {
  "kernelspec": {
   "display_name": "Python 3.10.4 64-bit",
   "language": "python",
   "name": "python3"
  },
  "language_info": {
   "codemirror_mode": {
    "name": "ipython",
    "version": 3
   },
   "file_extension": ".py",
   "mimetype": "text/x-python",
   "name": "python",
   "nbconvert_exporter": "python",
   "pygments_lexer": "ipython3",
   "version": "3.10.4"
  },
  "orig_nbformat": 4,
  "vscode": {
   "interpreter": {
    "hash": "b64e5434eb6f78b23ded7093c27034844fda971e57a0689a97b233b8e8d5583b"
   }
  }
 },
 "nbformat": 4,
 "nbformat_minor": 2
}
